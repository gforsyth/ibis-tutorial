{
  "cells": [
    {
      "cell_type": "markdown",
      "metadata": {},
      "source": [
        "# Welcome to the Ibis tutorial!\n",
        "\n",
        "On the left 👈 is a file browser open with the tutorial notebooks.\n",
        "\n",
        "For convenience they're also linked below 👇\n",
        "\n",
        "1. [Getting Started](./01%20-%20Getting%20Started.ipynb)\n",
        "1. [Memtables, Joins, and Selectors](./02%20-%20Memtables,%20Joins,%20and%20Selectors.ipynb)\n",
        "1. [Playing with PyPI](./03%20-%20Playing%20with%20PyPI.ipynb)"
      ]
    }
  ],
  "metadata": {
    "kernelspec": {
      "name": "python3",
      "language": "python",
      "display_name": "Python 3 (ipykernel)"
    }
  },
  "nbformat": 4,
  "nbformat_minor": 4
}